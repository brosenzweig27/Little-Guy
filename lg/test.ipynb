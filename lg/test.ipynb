{
 "cells": [
  {
   "cell_type": "code",
   "execution_count": 27,
   "metadata": {},
   "outputs": [],
   "source": [
    "from transformers import BertModel, BertTokenizer\n",
    "import pandas as pd\n",
    "\n",
    "# Load the BERT model and tokenizer\n",
    "model = BertModel.from_pretrained(\"bert-base-uncased\")\n",
    "tokenizer = BertTokenizer.from_pretrained(\"bert-base-uncased\")\n",
    "\n",
    "# Extract the embedding matrix\n",
    "embedding_matrix = model.embeddings.word_embeddings.weight\n",
    "\n",
    "# Get the vocabulary as a dictionary: {token: index}\n",
    "vocab = tokenizer.get_vocab()\n",
    "\n",
    "# Reverse the vocab dictionary: {index: token}\n",
    "index_to_token = {index: token for token, index in vocab.items()}\n",
    "\n",
    "# Prepare a DataFrame for a preview\n",
    "n = 10000  # Number of tokens to preview\n",
    "embedding_table = {\n",
    "    \"Token\": [index_to_token[i] for i in range(len(embedding_matrix))],\n",
    "    \"Embedding\": [embedding_matrix[i].tolist() for i in range(len(embedding_matrix))]\n",
    "}\n",
    "\n",
    "# Convert to a Pandas DataFrame for better visualization\n",
    "df = pd.DataFrame(embedding_table)"
   ]
  },
  {
   "cell_type": "code",
   "execution_count": 29,
   "metadata": {},
   "outputs": [],
   "source": [
    "# Extract the token column\n",
    "tokens = embedding_table['Token']  # Replace 'token' with the actual column name\n",
    "\n",
    "# Save the tokens to a text file\n",
    "with open(\"tokens.txt\", \"w\") as f:\n",
    "    for token in tokens:\n",
    "        f.write(token + \"\\n\")"
   ]
  },
  {
   "cell_type": "code",
   "execution_count": 3,
   "metadata": {},
   "outputs": [],
   "source": [
    "import numpy as np\n",
    "tree = {}  # Monte Carlo Tree: stores N(s, a), Q(s, a), P(s, a)\n",
    "\n",
    "def select_node(tree, sentence):\n",
    "    path = []\n",
    "    current_node = tuple(sentence)\n",
    "    print(current_node)\n",
    "\n",
    "    while current_node in tree and tree[current_node][\"children\"]:\n",
    "        children = tree[current_node][\"children\"]\n",
    "        total_visits = sum(tree[child][\"N\"] for child in children)\n",
    "\n",
    "        if not children:  # Handle empty children case\n",
    "            print(f\"No children for node {current_node}\")\n",
    "            break\n",
    "\n",
    "        # Select the child with the highest UCB score\n",
    "        best_child = max(\n",
    "            children,\n",
    "            key=lambda child: (\n",
    "                tree[child][\"Q\"] +\n",
    "                np.sqrt(total_visits) * tree[child][\"P\"] / (1 + tree[child][\"N\"])\n",
    "            )\n",
    "        )\n",
    "        path.append((current_node, best_child))\n",
    "        current_node = best_child\n",
    "\n",
    "    return path, current_node"
   ]
  },
  {
   "cell_type": "code",
   "execution_count": 5,
   "metadata": {},
   "outputs": [
    {
     "name": "stdout",
     "output_type": "stream",
     "text": [
      "('t', 'h', 'e', ' ', 'q', 'u', 'i', 'c', 'k', ' ', 'b', 'r', 'o', 'w', 'n', ' ', 'd', 'o', 'g')\n",
      "[]\n",
      "('t', 'h', 'e', ' ', 'q', 'u', 'i', 'c', 'k', ' ', 'b', 'r', 'o', 'w', 'n', ' ', 'd', 'o', 'g')\n"
     ]
    },
    {
     "ename": "",
     "evalue": "",
     "output_type": "error",
     "traceback": [
      "\u001b[1;31mThe Kernel crashed while executing code in the current cell or a previous cell. \n",
      "\u001b[1;31mPlease review the code in the cell(s) to identify a possible cause of the failure. \n",
      "\u001b[1;31mClick <a href='https://aka.ms/vscodeJupyterKernelCrash'>here</a> for more info. \n",
      "\u001b[1;31mView Jupyter <a href='command:jupyter.viewOutput'>log</a> for further details."
     ]
    }
   ],
   "source": [
    "path, current_node = select_node(tree, \"the quick brown dog\")\n",
    "print(path)\n",
    "print(current_node)"
   ]
  },
  {
   "cell_type": "code",
   "execution_count": null,
   "metadata": {},
   "outputs": [],
   "source": []
  }
 ],
 "metadata": {
  "kernelspec": {
   "display_name": "littleguy",
   "language": "python",
   "name": "python3"
  },
  "language_info": {
   "codemirror_mode": {
    "name": "ipython",
    "version": 3
   },
   "file_extension": ".py",
   "mimetype": "text/x-python",
   "name": "python",
   "nbconvert_exporter": "python",
   "pygments_lexer": "ipython3",
   "version": "3.12.8"
  }
 },
 "nbformat": 4,
 "nbformat_minor": 2
}
